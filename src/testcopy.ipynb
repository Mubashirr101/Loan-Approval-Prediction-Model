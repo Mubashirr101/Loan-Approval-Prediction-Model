{
  "cells": [
    {
      "cell_type": "markdown",
      "metadata": {
        "colab_type": "text",
        "id": "view-in-github"
      },
      "source": [
        "<a href=\"https://colab.research.google.com/github/Mubashirr101/Loan-Approval-Prediction-Model/blob/main/Loan_Approval_Prediction.ipynb\" target=\"_parent\"><img src=\"https://colab.research.google.com/assets/colab-badge.svg\" alt=\"Open In Colab\"/></a>"
      ]
    },
    {
      "cell_type": "markdown",
      "metadata": {
        "id": "AlR2fa6ZMqVA"
      },
      "source": [
        "\n",
        "# Loan Approval Prediction"
      ]
    },
    {
      "cell_type": "markdown",
      "metadata": {
        "id": "wlFTQMfv5Yz7"
      },
      "source": [
        "## Introduction"
      ]
    },
    {
      "cell_type": "markdown",
      "metadata": {
        "id": "xF7VnPUi233N"
      },
      "source": [
        "This project aims to predict loan approvals based on applicant details such as income, education, and credit history.  \n",
        "Using machine learning techniques, we preprocess data, handle missing values, and train predictive models to evaluate performance.\n",
        "\n",
        "### Objectives:\n",
        "1. Explore and preprocess the dataset.\n",
        "2. Analyze trends and patterns in applicant data.\n",
        "3. Train machine learning models for classification.\n",
        "4. Evaluate model performance and accuracy.\n",
        "\n",
        "We begin with importing the csv file and creating a dataset."
      ]
    },
    {
      "cell_type": "markdown",
      "metadata": {
        "id": "3eJodm9lwGZ1"
      },
      "source": [
        "## importing modules & reading csv"
      ]
    },
    {
      "cell_type": "code",
      "execution_count": 22,
      "metadata": {
        "colab": {
          "base_uri": "https://localhost:8080/",
          "height": 0
        },
        "id": "0tdkT12Diq5V",
        "outputId": "e1f1645e-34f5-49b1-d45e-d79d88fbba48"
      },
      "outputs": [
        {
          "name": "stdout",
          "output_type": "stream",
          "text": [
            "Path to dataset files: C:\\Users\\shaik\\.cache\\kagglehub\\datasets\\architsharma01\\loan-approval-prediction-dataset\\versions\\1\n"
          ]
        },
        {
          "data": {
            "text/html": [
              "<div>\n",
              "<style scoped>\n",
              "    .dataframe tbody tr th:only-of-type {\n",
              "        vertical-align: middle;\n",
              "    }\n",
              "\n",
              "    .dataframe tbody tr th {\n",
              "        vertical-align: top;\n",
              "    }\n",
              "\n",
              "    .dataframe thead th {\n",
              "        text-align: right;\n",
              "    }\n",
              "</style>\n",
              "<table border=\"1\" class=\"dataframe\">\n",
              "  <thead>\n",
              "    <tr style=\"text-align: right;\">\n",
              "      <th></th>\n",
              "      <th>loan_id</th>\n",
              "      <th>no_of_dependents</th>\n",
              "      <th>education</th>\n",
              "      <th>self_employed</th>\n",
              "      <th>income_annum</th>\n",
              "      <th>loan_amount</th>\n",
              "      <th>loan_term</th>\n",
              "      <th>cibil_score</th>\n",
              "      <th>residential_assets_value</th>\n",
              "      <th>commercial_assets_value</th>\n",
              "      <th>luxury_assets_value</th>\n",
              "      <th>bank_asset_value</th>\n",
              "      <th>loan_status</th>\n",
              "    </tr>\n",
              "  </thead>\n",
              "  <tbody>\n",
              "    <tr>\n",
              "      <th>0</th>\n",
              "      <td>1</td>\n",
              "      <td>2</td>\n",
              "      <td>Graduate</td>\n",
              "      <td>No</td>\n",
              "      <td>9600000</td>\n",
              "      <td>29900000</td>\n",
              "      <td>12</td>\n",
              "      <td>778</td>\n",
              "      <td>2400000</td>\n",
              "      <td>17600000</td>\n",
              "      <td>22700000</td>\n",
              "      <td>8000000</td>\n",
              "      <td>Approved</td>\n",
              "    </tr>\n",
              "    <tr>\n",
              "      <th>1</th>\n",
              "      <td>2</td>\n",
              "      <td>0</td>\n",
              "      <td>Not Graduate</td>\n",
              "      <td>Yes</td>\n",
              "      <td>4100000</td>\n",
              "      <td>12200000</td>\n",
              "      <td>8</td>\n",
              "      <td>417</td>\n",
              "      <td>2700000</td>\n",
              "      <td>2200000</td>\n",
              "      <td>8800000</td>\n",
              "      <td>3300000</td>\n",
              "      <td>Rejected</td>\n",
              "    </tr>\n",
              "    <tr>\n",
              "      <th>2</th>\n",
              "      <td>3</td>\n",
              "      <td>3</td>\n",
              "      <td>Graduate</td>\n",
              "      <td>No</td>\n",
              "      <td>9100000</td>\n",
              "      <td>29700000</td>\n",
              "      <td>20</td>\n",
              "      <td>506</td>\n",
              "      <td>7100000</td>\n",
              "      <td>4500000</td>\n",
              "      <td>33300000</td>\n",
              "      <td>12800000</td>\n",
              "      <td>Rejected</td>\n",
              "    </tr>\n",
              "    <tr>\n",
              "      <th>3</th>\n",
              "      <td>4</td>\n",
              "      <td>3</td>\n",
              "      <td>Graduate</td>\n",
              "      <td>No</td>\n",
              "      <td>8200000</td>\n",
              "      <td>30700000</td>\n",
              "      <td>8</td>\n",
              "      <td>467</td>\n",
              "      <td>18200000</td>\n",
              "      <td>3300000</td>\n",
              "      <td>23300000</td>\n",
              "      <td>7900000</td>\n",
              "      <td>Rejected</td>\n",
              "    </tr>\n",
              "    <tr>\n",
              "      <th>4</th>\n",
              "      <td>5</td>\n",
              "      <td>5</td>\n",
              "      <td>Not Graduate</td>\n",
              "      <td>Yes</td>\n",
              "      <td>9800000</td>\n",
              "      <td>24200000</td>\n",
              "      <td>20</td>\n",
              "      <td>382</td>\n",
              "      <td>12400000</td>\n",
              "      <td>8200000</td>\n",
              "      <td>29400000</td>\n",
              "      <td>5000000</td>\n",
              "      <td>Rejected</td>\n",
              "    </tr>\n",
              "  </tbody>\n",
              "</table>\n",
              "</div>"
            ],
            "text/plain": [
              "   loan_id   no_of_dependents      education  self_employed   income_annum  \\\n",
              "0        1                  2       Graduate             No        9600000   \n",
              "1        2                  0   Not Graduate            Yes        4100000   \n",
              "2        3                  3       Graduate             No        9100000   \n",
              "3        4                  3       Graduate             No        8200000   \n",
              "4        5                  5   Not Graduate            Yes        9800000   \n",
              "\n",
              "    loan_amount   loan_term   cibil_score   residential_assets_value  \\\n",
              "0      29900000          12           778                    2400000   \n",
              "1      12200000           8           417                    2700000   \n",
              "2      29700000          20           506                    7100000   \n",
              "3      30700000           8           467                   18200000   \n",
              "4      24200000          20           382                   12400000   \n",
              "\n",
              "    commercial_assets_value   luxury_assets_value   bank_asset_value  \\\n",
              "0                  17600000              22700000            8000000   \n",
              "1                   2200000               8800000            3300000   \n",
              "2                   4500000              33300000           12800000   \n",
              "3                   3300000              23300000            7900000   \n",
              "4                   8200000              29400000            5000000   \n",
              "\n",
              "   loan_status  \n",
              "0     Approved  \n",
              "1     Rejected  \n",
              "2     Rejected  \n",
              "3     Rejected  \n",
              "4     Rejected  "
            ]
          },
          "execution_count": 22,
          "metadata": {},
          "output_type": "execute_result"
        }
      ],
      "source": [
        "import pandas as pd\n",
        "import numpy as np\n",
        "import matplotlib.pyplot as plt\n",
        "import seaborn as sns\n",
        "\n",
        "import kagglehub\n",
        "\n",
        "# Download latest version\n",
        "path = kagglehub.dataset_download(\"architsharma01/loan-approval-prediction-dataset\")\n",
        "print(\"Path to dataset files:\", path)\n",
        "df = pd.read_csv(f\"{path}/loan_approval_dataset.csv\")\n",
        "df.head()"
      ]
    },
    {
      "cell_type": "markdown",
      "metadata": {
        "id": "_AbuMjxuKDE4"
      },
      "source": [
        "## Data Cleaning"
      ]
    },
    {
      "cell_type": "markdown",
      "metadata": {
        "id": "1bLT2q5b3SYz"
      },
      "source": [
        "\n",
        "**Overview**:\n",
        "\n",
        "Data cleaning is crucial for preparing the dataset for analysis.  \n",
        "Here, we handle missing values, check data types, perform label encoding on necesssary features & standardize data formats.\n"
      ]
    },
    {
      "cell_type": "markdown",
      "metadata": {
        "id": "Vw-GyEbxKE6n"
      },
      "source": [
        "### Handling Null Values"
      ]
    },
    {
      "cell_type": "code",
      "execution_count": 23,
      "metadata": {
        "colab": {
          "base_uri": "https://localhost:8080/",
          "height": 0
        },
        "id": "-9MKRIGMMxs1",
        "outputId": "1c2053e5-15ad-47d9-9966-9dd93552d838"
      },
      "outputs": [
        {
          "data": {
            "text/plain": [
              "loan_id                      0\n",
              " no_of_dependents            0\n",
              " education                   0\n",
              " self_employed               0\n",
              " income_annum                0\n",
              " loan_amount                 0\n",
              " loan_term                   0\n",
              " cibil_score                 0\n",
              " residential_assets_value    0\n",
              " commercial_assets_value     0\n",
              " luxury_assets_value         0\n",
              " bank_asset_value            0\n",
              " loan_status                 0\n",
              "dtype: int64"
            ]
          },
          "execution_count": 23,
          "metadata": {},
          "output_type": "execute_result"
        }
      ],
      "source": [
        "df.isna().sum()"
      ]
    },
    {
      "cell_type": "markdown",
      "metadata": {
        "id": "NYHGbKlxKJgX"
      },
      "source": [
        "### Checking datatypes"
      ]
    },
    {
      "cell_type": "code",
      "execution_count": 24,
      "metadata": {
        "colab": {
          "base_uri": "https://localhost:8080/",
          "height": 0
        },
        "id": "k0TrTn_8v9xF",
        "outputId": "7f28912d-4af3-4034-b18e-c366848595db"
      },
      "outputs": [
        {
          "data": {
            "text/plain": [
              "loan_id                       int64\n",
              " no_of_dependents             int64\n",
              " education                   object\n",
              " self_employed               object\n",
              " income_annum                 int64\n",
              " loan_amount                  int64\n",
              " loan_term                    int64\n",
              " cibil_score                  int64\n",
              " residential_assets_value     int64\n",
              " commercial_assets_value      int64\n",
              " luxury_assets_value          int64\n",
              " bank_asset_value             int64\n",
              " loan_status                 object\n",
              "dtype: object"
            ]
          },
          "execution_count": 24,
          "metadata": {},
          "output_type": "execute_result"
        }
      ],
      "source": [
        "df.dtypes"
      ]
    },
    {
      "cell_type": "code",
      "execution_count": 25,
      "metadata": {
        "colab": {
          "base_uri": "https://localhost:8080/"
        },
        "id": "LInRCZH4xlJ-",
        "outputId": "39523047-d68a-46f9-d589-f93a3f4d5d8c"
      },
      "outputs": [
        {
          "name": "stdout",
          "output_type": "stream",
          "text": [
            "<class 'pandas.core.frame.DataFrame'>\n",
            "RangeIndex: 4269 entries, 0 to 4268\n",
            "Data columns (total 13 columns):\n",
            " #   Column                     Non-Null Count  Dtype \n",
            "---  ------                     --------------  ----- \n",
            " 0   loan_id                    4269 non-null   int64 \n",
            " 1    no_of_dependents          4269 non-null   int64 \n",
            " 2    education                 4269 non-null   object\n",
            " 3    self_employed             4269 non-null   object\n",
            " 4    income_annum              4269 non-null   int64 \n",
            " 5    loan_amount               4269 non-null   int64 \n",
            " 6    loan_term                 4269 non-null   int64 \n",
            " 7    cibil_score               4269 non-null   int64 \n",
            " 8    residential_assets_value  4269 non-null   int64 \n",
            " 9    commercial_assets_value   4269 non-null   int64 \n",
            " 10   luxury_assets_value       4269 non-null   int64 \n",
            " 11   bank_asset_value          4269 non-null   int64 \n",
            " 12   loan_status               4269 non-null   object\n",
            "dtypes: int64(10), object(3)\n",
            "memory usage: 433.7+ KB\n"
          ]
        }
      ],
      "source": [
        "df.info()"
      ]
    },
    {
      "cell_type": "code",
      "execution_count": 26,
      "metadata": {
        "colab": {
          "base_uri": "https://localhost:8080/",
          "height": 0
        },
        "id": "ZcDgQm5FKXtf",
        "outputId": "d7c34e9a-3c7f-4ab8-d9b2-6f299be3a867"
      },
      "outputs": [
        {
          "data": {
            "text/html": [
              "<div>\n",
              "<style scoped>\n",
              "    .dataframe tbody tr th:only-of-type {\n",
              "        vertical-align: middle;\n",
              "    }\n",
              "\n",
              "    .dataframe tbody tr th {\n",
              "        vertical-align: top;\n",
              "    }\n",
              "\n",
              "    .dataframe thead th {\n",
              "        text-align: right;\n",
              "    }\n",
              "</style>\n",
              "<table border=\"1\" class=\"dataframe\">\n",
              "  <thead>\n",
              "    <tr style=\"text-align: right;\">\n",
              "      <th></th>\n",
              "      <th>no_of_dependents</th>\n",
              "      <th>education</th>\n",
              "      <th>self_employed</th>\n",
              "      <th>income_annum</th>\n",
              "      <th>loan_amount</th>\n",
              "      <th>loan_term</th>\n",
              "      <th>cibil_score</th>\n",
              "      <th>residential_assets_value</th>\n",
              "      <th>commercial_assets_value</th>\n",
              "      <th>luxury_assets_value</th>\n",
              "      <th>bank_asset_value</th>\n",
              "      <th>loan_status</th>\n",
              "    </tr>\n",
              "  </thead>\n",
              "  <tbody>\n",
              "    <tr>\n",
              "      <th>0</th>\n",
              "      <td>2</td>\n",
              "      <td>Graduate</td>\n",
              "      <td>No</td>\n",
              "      <td>9600000</td>\n",
              "      <td>29900000</td>\n",
              "      <td>12</td>\n",
              "      <td>778</td>\n",
              "      <td>2400000</td>\n",
              "      <td>17600000</td>\n",
              "      <td>22700000</td>\n",
              "      <td>8000000</td>\n",
              "      <td>Approved</td>\n",
              "    </tr>\n",
              "    <tr>\n",
              "      <th>1</th>\n",
              "      <td>0</td>\n",
              "      <td>Not Graduate</td>\n",
              "      <td>Yes</td>\n",
              "      <td>4100000</td>\n",
              "      <td>12200000</td>\n",
              "      <td>8</td>\n",
              "      <td>417</td>\n",
              "      <td>2700000</td>\n",
              "      <td>2200000</td>\n",
              "      <td>8800000</td>\n",
              "      <td>3300000</td>\n",
              "      <td>Rejected</td>\n",
              "    </tr>\n",
              "    <tr>\n",
              "      <th>2</th>\n",
              "      <td>3</td>\n",
              "      <td>Graduate</td>\n",
              "      <td>No</td>\n",
              "      <td>9100000</td>\n",
              "      <td>29700000</td>\n",
              "      <td>20</td>\n",
              "      <td>506</td>\n",
              "      <td>7100000</td>\n",
              "      <td>4500000</td>\n",
              "      <td>33300000</td>\n",
              "      <td>12800000</td>\n",
              "      <td>Rejected</td>\n",
              "    </tr>\n",
              "    <tr>\n",
              "      <th>3</th>\n",
              "      <td>3</td>\n",
              "      <td>Graduate</td>\n",
              "      <td>No</td>\n",
              "      <td>8200000</td>\n",
              "      <td>30700000</td>\n",
              "      <td>8</td>\n",
              "      <td>467</td>\n",
              "      <td>18200000</td>\n",
              "      <td>3300000</td>\n",
              "      <td>23300000</td>\n",
              "      <td>7900000</td>\n",
              "      <td>Rejected</td>\n",
              "    </tr>\n",
              "    <tr>\n",
              "      <th>4</th>\n",
              "      <td>5</td>\n",
              "      <td>Not Graduate</td>\n",
              "      <td>Yes</td>\n",
              "      <td>9800000</td>\n",
              "      <td>24200000</td>\n",
              "      <td>20</td>\n",
              "      <td>382</td>\n",
              "      <td>12400000</td>\n",
              "      <td>8200000</td>\n",
              "      <td>29400000</td>\n",
              "      <td>5000000</td>\n",
              "      <td>Rejected</td>\n",
              "    </tr>\n",
              "    <tr>\n",
              "      <th>...</th>\n",
              "      <td>...</td>\n",
              "      <td>...</td>\n",
              "      <td>...</td>\n",
              "      <td>...</td>\n",
              "      <td>...</td>\n",
              "      <td>...</td>\n",
              "      <td>...</td>\n",
              "      <td>...</td>\n",
              "      <td>...</td>\n",
              "      <td>...</td>\n",
              "      <td>...</td>\n",
              "      <td>...</td>\n",
              "    </tr>\n",
              "    <tr>\n",
              "      <th>4264</th>\n",
              "      <td>5</td>\n",
              "      <td>Graduate</td>\n",
              "      <td>Yes</td>\n",
              "      <td>1000000</td>\n",
              "      <td>2300000</td>\n",
              "      <td>12</td>\n",
              "      <td>317</td>\n",
              "      <td>2800000</td>\n",
              "      <td>500000</td>\n",
              "      <td>3300000</td>\n",
              "      <td>800000</td>\n",
              "      <td>Rejected</td>\n",
              "    </tr>\n",
              "    <tr>\n",
              "      <th>4265</th>\n",
              "      <td>0</td>\n",
              "      <td>Not Graduate</td>\n",
              "      <td>Yes</td>\n",
              "      <td>3300000</td>\n",
              "      <td>11300000</td>\n",
              "      <td>20</td>\n",
              "      <td>559</td>\n",
              "      <td>4200000</td>\n",
              "      <td>2900000</td>\n",
              "      <td>11000000</td>\n",
              "      <td>1900000</td>\n",
              "      <td>Approved</td>\n",
              "    </tr>\n",
              "    <tr>\n",
              "      <th>4266</th>\n",
              "      <td>2</td>\n",
              "      <td>Not Graduate</td>\n",
              "      <td>No</td>\n",
              "      <td>6500000</td>\n",
              "      <td>23900000</td>\n",
              "      <td>18</td>\n",
              "      <td>457</td>\n",
              "      <td>1200000</td>\n",
              "      <td>12400000</td>\n",
              "      <td>18100000</td>\n",
              "      <td>7300000</td>\n",
              "      <td>Rejected</td>\n",
              "    </tr>\n",
              "    <tr>\n",
              "      <th>4267</th>\n",
              "      <td>1</td>\n",
              "      <td>Not Graduate</td>\n",
              "      <td>No</td>\n",
              "      <td>4100000</td>\n",
              "      <td>12800000</td>\n",
              "      <td>8</td>\n",
              "      <td>780</td>\n",
              "      <td>8200000</td>\n",
              "      <td>700000</td>\n",
              "      <td>14100000</td>\n",
              "      <td>5800000</td>\n",
              "      <td>Approved</td>\n",
              "    </tr>\n",
              "    <tr>\n",
              "      <th>4268</th>\n",
              "      <td>1</td>\n",
              "      <td>Graduate</td>\n",
              "      <td>No</td>\n",
              "      <td>9200000</td>\n",
              "      <td>29700000</td>\n",
              "      <td>10</td>\n",
              "      <td>607</td>\n",
              "      <td>17800000</td>\n",
              "      <td>11800000</td>\n",
              "      <td>35700000</td>\n",
              "      <td>12000000</td>\n",
              "      <td>Approved</td>\n",
              "    </tr>\n",
              "  </tbody>\n",
              "</table>\n",
              "<p>4269 rows × 12 columns</p>\n",
              "</div>"
            ],
            "text/plain": [
              "      no_of_dependents      education self_employed  income_annum  \\\n",
              "0                    2       Graduate            No       9600000   \n",
              "1                    0   Not Graduate           Yes       4100000   \n",
              "2                    3       Graduate            No       9100000   \n",
              "3                    3       Graduate            No       8200000   \n",
              "4                    5   Not Graduate           Yes       9800000   \n",
              "...                ...            ...           ...           ...   \n",
              "4264                 5       Graduate           Yes       1000000   \n",
              "4265                 0   Not Graduate           Yes       3300000   \n",
              "4266                 2   Not Graduate            No       6500000   \n",
              "4267                 1   Not Graduate            No       4100000   \n",
              "4268                 1       Graduate            No       9200000   \n",
              "\n",
              "      loan_amount  loan_term  cibil_score  residential_assets_value  \\\n",
              "0        29900000         12          778                   2400000   \n",
              "1        12200000          8          417                   2700000   \n",
              "2        29700000         20          506                   7100000   \n",
              "3        30700000          8          467                  18200000   \n",
              "4        24200000         20          382                  12400000   \n",
              "...           ...        ...          ...                       ...   \n",
              "4264      2300000         12          317                   2800000   \n",
              "4265     11300000         20          559                   4200000   \n",
              "4266     23900000         18          457                   1200000   \n",
              "4267     12800000          8          780                   8200000   \n",
              "4268     29700000         10          607                  17800000   \n",
              "\n",
              "      commercial_assets_value  luxury_assets_value  bank_asset_value  \\\n",
              "0                    17600000             22700000           8000000   \n",
              "1                     2200000              8800000           3300000   \n",
              "2                     4500000             33300000          12800000   \n",
              "3                     3300000             23300000           7900000   \n",
              "4                     8200000             29400000           5000000   \n",
              "...                       ...                  ...               ...   \n",
              "4264                   500000              3300000            800000   \n",
              "4265                  2900000             11000000           1900000   \n",
              "4266                 12400000             18100000           7300000   \n",
              "4267                   700000             14100000           5800000   \n",
              "4268                 11800000             35700000          12000000   \n",
              "\n",
              "     loan_status  \n",
              "0       Approved  \n",
              "1       Rejected  \n",
              "2       Rejected  \n",
              "3       Rejected  \n",
              "4       Rejected  \n",
              "...          ...  \n",
              "4264    Rejected  \n",
              "4265    Approved  \n",
              "4266    Rejected  \n",
              "4267    Approved  \n",
              "4268    Approved  \n",
              "\n",
              "[4269 rows x 12 columns]"
            ]
          },
          "execution_count": 26,
          "metadata": {},
          "output_type": "execute_result"
        }
      ],
      "source": [
        "# Dropping the ID col since its of no use\n",
        "df.drop(columns=['loan_id'], inplace=True)\n",
        "df"
      ]
    },
    {
      "cell_type": "code",
      "execution_count": 27,
      "metadata": {
        "colab": {
          "base_uri": "https://localhost:8080/"
        },
        "id": "jynGZF9jxztN",
        "outputId": "a1a9be4d-c169-49fb-a672-05d3878c2c83"
      },
      "outputs": [
        {
          "name": "stdout",
          "output_type": "stream",
          "text": [
            "Index([' no_of_dependents', ' education', ' self_employed', ' income_annum',\n",
            "       ' loan_amount', ' loan_term', ' cibil_score',\n",
            "       ' residential_assets_value', ' commercial_assets_value',\n",
            "       ' luxury_assets_value', ' bank_asset_value', ' loan_status'],\n",
            "      dtype='object')\n"
          ]
        }
      ],
      "source": [
        "print(df.columns)"
      ]
    },
    {
      "cell_type": "code",
      "execution_count": 28,
      "metadata": {
        "colab": {
          "base_uri": "https://localhost:8080/"
        },
        "id": "oIcI4jKILfDb",
        "outputId": "fd190be3-a15c-43be-8024-dba6af406baf"
      },
      "outputs": [
        {
          "name": "stdout",
          "output_type": "stream",
          "text": [
            "Index(['no_of_dependents', 'education', 'self_employed', 'income_annum',\n",
            "       'loan_amount', 'loan_term', 'cibil_score', 'residential_assets_value',\n",
            "       'commercial_assets_value', 'luxury_assets_value', 'bank_asset_value',\n",
            "       'loan_status'],\n",
            "      dtype='object')\n"
          ]
        }
      ],
      "source": [
        "# Editing the col names (removing the extra spaces present)\n",
        "df.columns=df.columns.str.strip()\n",
        "print(df.columns)"
      ]
    },
    {
      "cell_type": "markdown",
      "metadata": {
        "id": "DwvNwZsOL_sf"
      },
      "source": [
        "## Label Encoding"
      ]
    },
    {
      "cell_type": "code",
      "execution_count": 29,
      "metadata": {
        "colab": {
          "base_uri": "https://localhost:8080/",
          "height": 0
        },
        "id": "bRkYyxMRMlFj",
        "outputId": "a5f28590-b0a1-424a-aa85-c08b6d646d21"
      },
      "outputs": [
        {
          "data": {
            "text/html": [
              "<div>\n",
              "<style scoped>\n",
              "    .dataframe tbody tr th:only-of-type {\n",
              "        vertical-align: middle;\n",
              "    }\n",
              "\n",
              "    .dataframe tbody tr th {\n",
              "        vertical-align: top;\n",
              "    }\n",
              "\n",
              "    .dataframe thead th {\n",
              "        text-align: right;\n",
              "    }\n",
              "</style>\n",
              "<table border=\"1\" class=\"dataframe\">\n",
              "  <thead>\n",
              "    <tr style=\"text-align: right;\">\n",
              "      <th></th>\n",
              "      <th>no_of_dependents</th>\n",
              "      <th>education</th>\n",
              "      <th>self_employed</th>\n",
              "      <th>income_annum</th>\n",
              "      <th>loan_amount</th>\n",
              "      <th>loan_term</th>\n",
              "      <th>cibil_score</th>\n",
              "      <th>residential_assets_value</th>\n",
              "      <th>commercial_assets_value</th>\n",
              "      <th>luxury_assets_value</th>\n",
              "      <th>bank_asset_value</th>\n",
              "      <th>loan_status</th>\n",
              "    </tr>\n",
              "  </thead>\n",
              "  <tbody>\n",
              "    <tr>\n",
              "      <th>0</th>\n",
              "      <td>2</td>\n",
              "      <td>Graduate</td>\n",
              "      <td>No</td>\n",
              "      <td>9600000</td>\n",
              "      <td>29900000</td>\n",
              "      <td>12</td>\n",
              "      <td>778</td>\n",
              "      <td>2400000</td>\n",
              "      <td>17600000</td>\n",
              "      <td>22700000</td>\n",
              "      <td>8000000</td>\n",
              "      <td>Approved</td>\n",
              "    </tr>\n",
              "    <tr>\n",
              "      <th>1</th>\n",
              "      <td>0</td>\n",
              "      <td>Not Graduate</td>\n",
              "      <td>Yes</td>\n",
              "      <td>4100000</td>\n",
              "      <td>12200000</td>\n",
              "      <td>8</td>\n",
              "      <td>417</td>\n",
              "      <td>2700000</td>\n",
              "      <td>2200000</td>\n",
              "      <td>8800000</td>\n",
              "      <td>3300000</td>\n",
              "      <td>Rejected</td>\n",
              "    </tr>\n",
              "    <tr>\n",
              "      <th>2</th>\n",
              "      <td>3</td>\n",
              "      <td>Graduate</td>\n",
              "      <td>No</td>\n",
              "      <td>9100000</td>\n",
              "      <td>29700000</td>\n",
              "      <td>20</td>\n",
              "      <td>506</td>\n",
              "      <td>7100000</td>\n",
              "      <td>4500000</td>\n",
              "      <td>33300000</td>\n",
              "      <td>12800000</td>\n",
              "      <td>Rejected</td>\n",
              "    </tr>\n",
              "    <tr>\n",
              "      <th>3</th>\n",
              "      <td>3</td>\n",
              "      <td>Graduate</td>\n",
              "      <td>No</td>\n",
              "      <td>8200000</td>\n",
              "      <td>30700000</td>\n",
              "      <td>8</td>\n",
              "      <td>467</td>\n",
              "      <td>18200000</td>\n",
              "      <td>3300000</td>\n",
              "      <td>23300000</td>\n",
              "      <td>7900000</td>\n",
              "      <td>Rejected</td>\n",
              "    </tr>\n",
              "    <tr>\n",
              "      <th>4</th>\n",
              "      <td>5</td>\n",
              "      <td>Not Graduate</td>\n",
              "      <td>Yes</td>\n",
              "      <td>9800000</td>\n",
              "      <td>24200000</td>\n",
              "      <td>20</td>\n",
              "      <td>382</td>\n",
              "      <td>12400000</td>\n",
              "      <td>8200000</td>\n",
              "      <td>29400000</td>\n",
              "      <td>5000000</td>\n",
              "      <td>Rejected</td>\n",
              "    </tr>\n",
              "    <tr>\n",
              "      <th>...</th>\n",
              "      <td>...</td>\n",
              "      <td>...</td>\n",
              "      <td>...</td>\n",
              "      <td>...</td>\n",
              "      <td>...</td>\n",
              "      <td>...</td>\n",
              "      <td>...</td>\n",
              "      <td>...</td>\n",
              "      <td>...</td>\n",
              "      <td>...</td>\n",
              "      <td>...</td>\n",
              "      <td>...</td>\n",
              "    </tr>\n",
              "    <tr>\n",
              "      <th>4264</th>\n",
              "      <td>5</td>\n",
              "      <td>Graduate</td>\n",
              "      <td>Yes</td>\n",
              "      <td>1000000</td>\n",
              "      <td>2300000</td>\n",
              "      <td>12</td>\n",
              "      <td>317</td>\n",
              "      <td>2800000</td>\n",
              "      <td>500000</td>\n",
              "      <td>3300000</td>\n",
              "      <td>800000</td>\n",
              "      <td>Rejected</td>\n",
              "    </tr>\n",
              "    <tr>\n",
              "      <th>4265</th>\n",
              "      <td>0</td>\n",
              "      <td>Not Graduate</td>\n",
              "      <td>Yes</td>\n",
              "      <td>3300000</td>\n",
              "      <td>11300000</td>\n",
              "      <td>20</td>\n",
              "      <td>559</td>\n",
              "      <td>4200000</td>\n",
              "      <td>2900000</td>\n",
              "      <td>11000000</td>\n",
              "      <td>1900000</td>\n",
              "      <td>Approved</td>\n",
              "    </tr>\n",
              "    <tr>\n",
              "      <th>4266</th>\n",
              "      <td>2</td>\n",
              "      <td>Not Graduate</td>\n",
              "      <td>No</td>\n",
              "      <td>6500000</td>\n",
              "      <td>23900000</td>\n",
              "      <td>18</td>\n",
              "      <td>457</td>\n",
              "      <td>1200000</td>\n",
              "      <td>12400000</td>\n",
              "      <td>18100000</td>\n",
              "      <td>7300000</td>\n",
              "      <td>Rejected</td>\n",
              "    </tr>\n",
              "    <tr>\n",
              "      <th>4267</th>\n",
              "      <td>1</td>\n",
              "      <td>Not Graduate</td>\n",
              "      <td>No</td>\n",
              "      <td>4100000</td>\n",
              "      <td>12800000</td>\n",
              "      <td>8</td>\n",
              "      <td>780</td>\n",
              "      <td>8200000</td>\n",
              "      <td>700000</td>\n",
              "      <td>14100000</td>\n",
              "      <td>5800000</td>\n",
              "      <td>Approved</td>\n",
              "    </tr>\n",
              "    <tr>\n",
              "      <th>4268</th>\n",
              "      <td>1</td>\n",
              "      <td>Graduate</td>\n",
              "      <td>No</td>\n",
              "      <td>9200000</td>\n",
              "      <td>29700000</td>\n",
              "      <td>10</td>\n",
              "      <td>607</td>\n",
              "      <td>17800000</td>\n",
              "      <td>11800000</td>\n",
              "      <td>35700000</td>\n",
              "      <td>12000000</td>\n",
              "      <td>Approved</td>\n",
              "    </tr>\n",
              "  </tbody>\n",
              "</table>\n",
              "<p>4269 rows × 12 columns</p>\n",
              "</div>"
            ],
            "text/plain": [
              "      no_of_dependents      education self_employed  income_annum  \\\n",
              "0                    2       Graduate            No       9600000   \n",
              "1                    0   Not Graduate           Yes       4100000   \n",
              "2                    3       Graduate            No       9100000   \n",
              "3                    3       Graduate            No       8200000   \n",
              "4                    5   Not Graduate           Yes       9800000   \n",
              "...                ...            ...           ...           ...   \n",
              "4264                 5       Graduate           Yes       1000000   \n",
              "4265                 0   Not Graduate           Yes       3300000   \n",
              "4266                 2   Not Graduate            No       6500000   \n",
              "4267                 1   Not Graduate            No       4100000   \n",
              "4268                 1       Graduate            No       9200000   \n",
              "\n",
              "      loan_amount  loan_term  cibil_score  residential_assets_value  \\\n",
              "0        29900000         12          778                   2400000   \n",
              "1        12200000          8          417                   2700000   \n",
              "2        29700000         20          506                   7100000   \n",
              "3        30700000          8          467                  18200000   \n",
              "4        24200000         20          382                  12400000   \n",
              "...           ...        ...          ...                       ...   \n",
              "4264      2300000         12          317                   2800000   \n",
              "4265     11300000         20          559                   4200000   \n",
              "4266     23900000         18          457                   1200000   \n",
              "4267     12800000          8          780                   8200000   \n",
              "4268     29700000         10          607                  17800000   \n",
              "\n",
              "      commercial_assets_value  luxury_assets_value  bank_asset_value  \\\n",
              "0                    17600000             22700000           8000000   \n",
              "1                     2200000              8800000           3300000   \n",
              "2                     4500000             33300000          12800000   \n",
              "3                     3300000             23300000           7900000   \n",
              "4                     8200000             29400000           5000000   \n",
              "...                       ...                  ...               ...   \n",
              "4264                   500000              3300000            800000   \n",
              "4265                  2900000             11000000           1900000   \n",
              "4266                 12400000             18100000           7300000   \n",
              "4267                   700000             14100000           5800000   \n",
              "4268                 11800000             35700000          12000000   \n",
              "\n",
              "     loan_status  \n",
              "0       Approved  \n",
              "1       Rejected  \n",
              "2       Rejected  \n",
              "3       Rejected  \n",
              "4       Rejected  \n",
              "...          ...  \n",
              "4264    Rejected  \n",
              "4265    Approved  \n",
              "4266    Rejected  \n",
              "4267    Approved  \n",
              "4268    Approved  \n",
              "\n",
              "[4269 rows x 12 columns]"
            ]
          },
          "execution_count": 29,
          "metadata": {},
          "output_type": "execute_result"
        }
      ],
      "source": [
        "df"
      ]
    },
    {
      "cell_type": "markdown",
      "metadata": {
        "id": "4zl9_2XEM09A"
      },
      "source": [
        "*Here we can see that **education**, **self_employed**, **loan_status** are categorical*"
      ]
    },
    {
      "cell_type": "code",
      "execution_count": 30,
      "metadata": {
        "colab": {
          "base_uri": "https://localhost:8080/",
          "height": 0
        },
        "id": "KVfWyfRpMC8I",
        "outputId": "de22da0d-6637-4f53-d562-71368cc741e2"
      },
      "outputs": [
        {
          "data": {
            "text/html": [
              "<div>\n",
              "<style scoped>\n",
              "    .dataframe tbody tr th:only-of-type {\n",
              "        vertical-align: middle;\n",
              "    }\n",
              "\n",
              "    .dataframe tbody tr th {\n",
              "        vertical-align: top;\n",
              "    }\n",
              "\n",
              "    .dataframe thead th {\n",
              "        text-align: right;\n",
              "    }\n",
              "</style>\n",
              "<table border=\"1\" class=\"dataframe\">\n",
              "  <thead>\n",
              "    <tr style=\"text-align: right;\">\n",
              "      <th></th>\n",
              "      <th>no_of_dependents</th>\n",
              "      <th>education</th>\n",
              "      <th>self_employed</th>\n",
              "      <th>income_annum</th>\n",
              "      <th>loan_amount</th>\n",
              "      <th>loan_term</th>\n",
              "      <th>cibil_score</th>\n",
              "      <th>residential_assets_value</th>\n",
              "      <th>commercial_assets_value</th>\n",
              "      <th>luxury_assets_value</th>\n",
              "      <th>bank_asset_value</th>\n",
              "      <th>loan_status</th>\n",
              "    </tr>\n",
              "  </thead>\n",
              "  <tbody>\n",
              "    <tr>\n",
              "      <th>0</th>\n",
              "      <td>2</td>\n",
              "      <td>0</td>\n",
              "      <td>0</td>\n",
              "      <td>9600000</td>\n",
              "      <td>29900000</td>\n",
              "      <td>12</td>\n",
              "      <td>778</td>\n",
              "      <td>2400000</td>\n",
              "      <td>17600000</td>\n",
              "      <td>22700000</td>\n",
              "      <td>8000000</td>\n",
              "      <td>0</td>\n",
              "    </tr>\n",
              "    <tr>\n",
              "      <th>1</th>\n",
              "      <td>0</td>\n",
              "      <td>1</td>\n",
              "      <td>1</td>\n",
              "      <td>4100000</td>\n",
              "      <td>12200000</td>\n",
              "      <td>8</td>\n",
              "      <td>417</td>\n",
              "      <td>2700000</td>\n",
              "      <td>2200000</td>\n",
              "      <td>8800000</td>\n",
              "      <td>3300000</td>\n",
              "      <td>1</td>\n",
              "    </tr>\n",
              "    <tr>\n",
              "      <th>2</th>\n",
              "      <td>3</td>\n",
              "      <td>0</td>\n",
              "      <td>0</td>\n",
              "      <td>9100000</td>\n",
              "      <td>29700000</td>\n",
              "      <td>20</td>\n",
              "      <td>506</td>\n",
              "      <td>7100000</td>\n",
              "      <td>4500000</td>\n",
              "      <td>33300000</td>\n",
              "      <td>12800000</td>\n",
              "      <td>1</td>\n",
              "    </tr>\n",
              "    <tr>\n",
              "      <th>3</th>\n",
              "      <td>3</td>\n",
              "      <td>0</td>\n",
              "      <td>0</td>\n",
              "      <td>8200000</td>\n",
              "      <td>30700000</td>\n",
              "      <td>8</td>\n",
              "      <td>467</td>\n",
              "      <td>18200000</td>\n",
              "      <td>3300000</td>\n",
              "      <td>23300000</td>\n",
              "      <td>7900000</td>\n",
              "      <td>1</td>\n",
              "    </tr>\n",
              "    <tr>\n",
              "      <th>4</th>\n",
              "      <td>5</td>\n",
              "      <td>1</td>\n",
              "      <td>1</td>\n",
              "      <td>9800000</td>\n",
              "      <td>24200000</td>\n",
              "      <td>20</td>\n",
              "      <td>382</td>\n",
              "      <td>12400000</td>\n",
              "      <td>8200000</td>\n",
              "      <td>29400000</td>\n",
              "      <td>5000000</td>\n",
              "      <td>1</td>\n",
              "    </tr>\n",
              "    <tr>\n",
              "      <th>...</th>\n",
              "      <td>...</td>\n",
              "      <td>...</td>\n",
              "      <td>...</td>\n",
              "      <td>...</td>\n",
              "      <td>...</td>\n",
              "      <td>...</td>\n",
              "      <td>...</td>\n",
              "      <td>...</td>\n",
              "      <td>...</td>\n",
              "      <td>...</td>\n",
              "      <td>...</td>\n",
              "      <td>...</td>\n",
              "    </tr>\n",
              "    <tr>\n",
              "      <th>4264</th>\n",
              "      <td>5</td>\n",
              "      <td>0</td>\n",
              "      <td>1</td>\n",
              "      <td>1000000</td>\n",
              "      <td>2300000</td>\n",
              "      <td>12</td>\n",
              "      <td>317</td>\n",
              "      <td>2800000</td>\n",
              "      <td>500000</td>\n",
              "      <td>3300000</td>\n",
              "      <td>800000</td>\n",
              "      <td>1</td>\n",
              "    </tr>\n",
              "    <tr>\n",
              "      <th>4265</th>\n",
              "      <td>0</td>\n",
              "      <td>1</td>\n",
              "      <td>1</td>\n",
              "      <td>3300000</td>\n",
              "      <td>11300000</td>\n",
              "      <td>20</td>\n",
              "      <td>559</td>\n",
              "      <td>4200000</td>\n",
              "      <td>2900000</td>\n",
              "      <td>11000000</td>\n",
              "      <td>1900000</td>\n",
              "      <td>0</td>\n",
              "    </tr>\n",
              "    <tr>\n",
              "      <th>4266</th>\n",
              "      <td>2</td>\n",
              "      <td>1</td>\n",
              "      <td>0</td>\n",
              "      <td>6500000</td>\n",
              "      <td>23900000</td>\n",
              "      <td>18</td>\n",
              "      <td>457</td>\n",
              "      <td>1200000</td>\n",
              "      <td>12400000</td>\n",
              "      <td>18100000</td>\n",
              "      <td>7300000</td>\n",
              "      <td>1</td>\n",
              "    </tr>\n",
              "    <tr>\n",
              "      <th>4267</th>\n",
              "      <td>1</td>\n",
              "      <td>1</td>\n",
              "      <td>0</td>\n",
              "      <td>4100000</td>\n",
              "      <td>12800000</td>\n",
              "      <td>8</td>\n",
              "      <td>780</td>\n",
              "      <td>8200000</td>\n",
              "      <td>700000</td>\n",
              "      <td>14100000</td>\n",
              "      <td>5800000</td>\n",
              "      <td>0</td>\n",
              "    </tr>\n",
              "    <tr>\n",
              "      <th>4268</th>\n",
              "      <td>1</td>\n",
              "      <td>0</td>\n",
              "      <td>0</td>\n",
              "      <td>9200000</td>\n",
              "      <td>29700000</td>\n",
              "      <td>10</td>\n",
              "      <td>607</td>\n",
              "      <td>17800000</td>\n",
              "      <td>11800000</td>\n",
              "      <td>35700000</td>\n",
              "      <td>12000000</td>\n",
              "      <td>0</td>\n",
              "    </tr>\n",
              "  </tbody>\n",
              "</table>\n",
              "<p>4269 rows × 12 columns</p>\n",
              "</div>"
            ],
            "text/plain": [
              "      no_of_dependents  education  self_employed  income_annum  loan_amount  \\\n",
              "0                    2          0              0       9600000     29900000   \n",
              "1                    0          1              1       4100000     12200000   \n",
              "2                    3          0              0       9100000     29700000   \n",
              "3                    3          0              0       8200000     30700000   \n",
              "4                    5          1              1       9800000     24200000   \n",
              "...                ...        ...            ...           ...          ...   \n",
              "4264                 5          0              1       1000000      2300000   \n",
              "4265                 0          1              1       3300000     11300000   \n",
              "4266                 2          1              0       6500000     23900000   \n",
              "4267                 1          1              0       4100000     12800000   \n",
              "4268                 1          0              0       9200000     29700000   \n",
              "\n",
              "      loan_term  cibil_score  residential_assets_value  \\\n",
              "0            12          778                   2400000   \n",
              "1             8          417                   2700000   \n",
              "2            20          506                   7100000   \n",
              "3             8          467                  18200000   \n",
              "4            20          382                  12400000   \n",
              "...         ...          ...                       ...   \n",
              "4264         12          317                   2800000   \n",
              "4265         20          559                   4200000   \n",
              "4266         18          457                   1200000   \n",
              "4267          8          780                   8200000   \n",
              "4268         10          607                  17800000   \n",
              "\n",
              "      commercial_assets_value  luxury_assets_value  bank_asset_value  \\\n",
              "0                    17600000             22700000           8000000   \n",
              "1                     2200000              8800000           3300000   \n",
              "2                     4500000             33300000          12800000   \n",
              "3                     3300000             23300000           7900000   \n",
              "4                     8200000             29400000           5000000   \n",
              "...                       ...                  ...               ...   \n",
              "4264                   500000              3300000            800000   \n",
              "4265                  2900000             11000000           1900000   \n",
              "4266                 12400000             18100000           7300000   \n",
              "4267                   700000             14100000           5800000   \n",
              "4268                 11800000             35700000          12000000   \n",
              "\n",
              "      loan_status  \n",
              "0               0  \n",
              "1               1  \n",
              "2               1  \n",
              "3               1  \n",
              "4               1  \n",
              "...           ...  \n",
              "4264            1  \n",
              "4265            0  \n",
              "4266            1  \n",
              "4267            0  \n",
              "4268            0  \n",
              "\n",
              "[4269 rows x 12 columns]"
            ]
          },
          "execution_count": 30,
          "metadata": {},
          "output_type": "execute_result"
        }
      ],
      "source": [
        "from sklearn.preprocessing import LabelEncoder\n",
        "\n",
        "label_encoder = LabelEncoder()\n",
        "df['education'] = label_encoder.fit_transform(df['education'])\n",
        "df['self_employed'] = label_encoder.fit_transform(df['self_employed'])\n",
        "df['loan_status'] = label_encoder.fit_transform(df['loan_status'])\n",
        "df"
      ]
    },
    {
      "cell_type": "code",
      "execution_count": 31,
      "metadata": {
        "colab": {
          "base_uri": "https://localhost:8080/",
          "height": 0
        },
        "id": "g0sGRofJOcJ-",
        "outputId": "84e20afa-7f7f-4fe6-b0c6-a33765678323"
      },
      "outputs": [
        {
          "data": {
            "text/plain": [
              "no_of_dependents            int64\n",
              "education                   int64\n",
              "self_employed               int64\n",
              "income_annum                int64\n",
              "loan_amount                 int64\n",
              "loan_term                   int64\n",
              "cibil_score                 int64\n",
              "residential_assets_value    int64\n",
              "commercial_assets_value     int64\n",
              "luxury_assets_value         int64\n",
              "bank_asset_value            int64\n",
              "loan_status                 int64\n",
              "dtype: object"
            ]
          },
          "execution_count": 31,
          "metadata": {},
          "output_type": "execute_result"
        }
      ],
      "source": [
        "df.dtypes"
      ]
    },
    {
      "cell_type": "markdown",
      "metadata": {
        "id": "NarkA20FOe34"
      },
      "source": [
        "Finally all the features are now numeric"
      ]
    },
    {
      "cell_type": "markdown",
      "metadata": {
        "id": "Xg98DySIOraH"
      },
      "source": [
        "## Standardization"
      ]
    },
    {
      "cell_type": "code",
      "execution_count": 32,
      "metadata": {
        "colab": {
          "base_uri": "https://localhost:8080/"
        },
        "id": "iA68RufuOvDR",
        "outputId": "4f917381-4884-4bb1-9ef4-f54fb9697588"
      },
      "outputs": [
        {
          "name": "stdout",
          "output_type": "stream",
          "text": [
            "   no_of_dependents  education  self_employed  income_annum  loan_amount  \\\n",
            "0         -0.294102          0              0      1.617979     1.633052   \n",
            "1         -1.473548          1              1     -0.341750    -0.324414   \n",
            "2          0.295621          0              0      1.439822     1.610933   \n",
            "3          0.295621          0              0      1.119139     1.721525   \n",
            "4          1.475067          1              1      1.689242     1.002681   \n",
            "\n",
            "   loan_term  cibil_score  residential_assets_value  commercial_assets_value  \\\n",
            "0   0.192617     1.032792                 -0.780058                 2.877289   \n",
            "1  -0.508091    -1.061051                 -0.733924                -0.631921   \n",
            "2   1.594031    -0.544840                 -0.057300                -0.107818   \n",
            "3  -0.508091    -0.771045                  1.649637                -0.381263   \n",
            "4   1.594031    -1.264055                  0.757724                 0.735304   \n",
            "\n",
            "   luxury_assets_value  bank_asset_value  \n",
            "0             0.832028          0.930304  \n",
            "1            -0.694993         -0.515936  \n",
            "2             1.996520          2.407316  \n",
            "3             0.897943          0.899533  \n",
            "4             1.568075          0.007172  \n",
            "0    0\n",
            "1    1\n",
            "2    1\n",
            "3    1\n",
            "4    1\n",
            "Name: loan_status, dtype: int64\n"
          ]
        }
      ],
      "source": [
        "# Lets standardize all the data to make it more balanced for training the models\n",
        "from sklearn.preprocessing import StandardScaler\n",
        "import joblib\n",
        "scaler = StandardScaler()\n",
        "# Feature columns\n",
        "x = df.drop(columns=['loan_status'])\n",
        "# Target Column\n",
        "y = df['loan_status']\n",
        "\n",
        "# standardize the feature cols (only numerics)\n",
        "numerical_cols = ['no_of_dependents','income_annum','loan_amount','loan_term',\n",
        "                  'cibil_score','residential_assets_value','commercial_assets_value',\n",
        "                  'luxury_assets_value','bank_asset_value']\n",
        "x[numerical_cols] = scaler.fit_transform(x[numerical_cols])\n",
        "joblib.dump(scaler, \"scaler.pkl\")\n",
        "print(x.head())\n",
        "print(y.head())"
      ]
    },
    {
      "cell_type": "markdown",
      "metadata": {
        "id": "QaMFFFf1SStu"
      },
      "source": [
        "## Model Training"
      ]
    },
    {
      "cell_type": "markdown",
      "metadata": {
        "id": "2tchxbby33BT"
      },
      "source": [
        "Several machine learning algorithms are employed to predict loan approvals.  \n",
        "We split the data into training and testing sets, train the models, and evaluate performance using metrics such as accuracy, precision, recall, and F1-score."
      ]
    },
    {
      "cell_type": "code",
      "execution_count": 33,
      "metadata": {
        "collapsed": true,
        "id": "5bzboJCYSWz9"
      },
      "outputs": [],
      "source": [
        "# We will try 6 different ML algos\n",
        "# LogReg,DT,RF,SVM,KNN,XGB\n",
        "# But first we will split the training n testing data\n",
        "from sklearn.model_selection import train_test_split\n",
        "x_train,x_test,y_train,y_test = train_test_split(x,y,test_size=0.2,random_state=42)"
      ]
    },
    {
      "cell_type": "code",
      "execution_count": 34,
      "metadata": {
        "colab": {
          "base_uri": "https://localhost:8080/",
          "height": 859
        },
        "id": "P8CTTwnxT8Mf",
        "outputId": "dca213b5-5a06-489e-ff4f-099b19514728"
      },
      "outputs": [
        {
          "data": {
            "image/png": "[encoded data removed]",
            "text/plain": [
              "<Figure size 800x600 with 2 Axes>"
            ]
          },
          "metadata": {},
          "output_type": "display_data"
        },
        {
          "name": "stdout",
          "output_type": "stream",
          "text": [
            "\n",
            "Logistic Regression Evaluation Metrics\n",
            "Accuracy:  0.905152224824356\n",
            "Precision:  0.9049067721845864\n",
            "Recall:  0.905152224824356\n",
            "F1 Score:  0.9049966078550483\n",
            "\n",
            "Classification Report: \n",
            "               precision    recall  f1-score   support\n",
            "\n",
            "           0       0.92      0.93      0.92       536\n",
            "           1       0.88      0.86      0.87       318\n",
            "\n",
            "    accuracy                           0.91       854\n",
            "   macro avg       0.90      0.90      0.90       854\n",
            "weighted avg       0.90      0.91      0.90       854\n",
            "\n"
          ]
        }
      ],
      "source": [
        "# Logistic Regression\n",
        "from sklearn.linear_model import LogisticRegression\n",
        "from sklearn.metrics import accuracy_score,precision_score,recall_score,f1_score,classification_report,confusion_matrix\n",
        "#create instance , fit the model and predict\n",
        "logistic_req= LogisticRegression(random_state=42)\n",
        "logistic_req.fit(x_train,y_train)\n",
        "y_pred = logistic_req.predict(x_test)\n",
        "\n",
        "# check evaluation metrics\n",
        "lr_accuracy = accuracy_score(y_test,y_pred)\n",
        "precision = precision_score(y_test,y_pred,average='weighted')\n",
        "recall = recall_score(y_test,y_pred,average='weighted')\n",
        "f1 = f1_score(y_test,y_pred,average='weighted')\n",
        "\n",
        "# classifcation report\n",
        "classification_rep = classification_report(y_test,y_pred)\n",
        "\n",
        "# confusion matrix\n",
        "conf_met = confusion_matrix(y_test,y_pred)\n",
        "plt.figure(figsize=(8,6))\n",
        "sns.heatmap(conf_met,annot=True,cmap='Blues',fmt='d') #fmt=d gives displayed numbers as int\n",
        "plt.xlabel('Predicted Values')\n",
        "plt.ylabel('Actual Values')\n",
        "plt.title('Confusion Matrix for Logistic Regression')\n",
        "plt.show()\n",
        "\n",
        "# print all the evaluation metrics\n",
        "print(\"\\nLogistic Regression Evaluation Metrics\")\n",
        "print(\"Accuracy: \",lr_accuracy)\n",
        "print(\"Precision: \",precision)\n",
        "print(\"Recall: \",recall)\n",
        "print(\"F1 Score: \",f1)\n",
        "#print classification report\n",
        "print(\"\\nClassification Report: \\n\",classification_rep)"
      ]
    },
    {
      "cell_type": "code",
      "execution_count": 35,
      "metadata": {
        "colab": {
          "base_uri": "https://localhost:8080/",
          "height": 859
        },
        "id": "hR857pByYQVm",
        "outputId": "0cf6d0c8-cacd-4039-d16f-aa099b9e0c76"
      },
      "outputs": [
        {
          "data": {
            "image/png": "[encoded data removed]",
            "text/plain": [
              "<Figure size 800x600 with 2 Axes>"
            ]
          },
          "metadata": {},
          "output_type": "display_data"
        },
        {
          "name": "stdout",
          "output_type": "stream",
          "text": [
            "\n",
            "Decision Tree Evaluation Metrics\n",
            "Accuracy:  0.977751756440281\n",
            "Precision:  0.9777403171039073\n",
            "Recall:  0.977751756440281\n",
            "F1 Score:  0.9777446054465413\n",
            "\n",
            "Classification Report: \n",
            "               precision    recall  f1-score   support\n",
            "\n",
            "           0       0.98      0.98      0.98       536\n",
            "           1       0.97      0.97      0.97       318\n",
            "\n",
            "    accuracy                           0.98       854\n",
            "   macro avg       0.98      0.98      0.98       854\n",
            "weighted avg       0.98      0.98      0.98       854\n",
            "\n"
          ]
        }
      ],
      "source": [
        "# Decision Tree\n",
        "from sklearn.tree import DecisionTreeClassifier\n",
        "from sklearn.metrics import accuracy_score,precision_score,recall_score,f1_score,classification_report,confusion_matrix\n",
        "#create instance , fit the model and predict\n",
        "des_tree= DecisionTreeClassifier(random_state=42)\n",
        "des_tree.fit(x_train,y_train)\n",
        "y_pred = des_tree.predict(x_test)\n",
        "\n",
        "# check evaluation metrics\n",
        "dt_accuracy = accuracy_score(y_test,y_pred)\n",
        "precision = precision_score(y_test,y_pred,average='weighted')\n",
        "recall = recall_score(y_test,y_pred,average='weighted')\n",
        "f1 = f1_score(y_test,y_pred,average='weighted')\n",
        "\n",
        "# classifcation report\n",
        "classification_rep = classification_report(y_test,y_pred)\n",
        "\n",
        "# confusion matrix\n",
        "conf_met = confusion_matrix(y_test,y_pred)\n",
        "plt.figure(figsize=(8,6))\n",
        "sns.heatmap(conf_met,annot=True,cmap='Blues',fmt='d') #fmt=d gives displayed numbers as int\n",
        "plt.xlabel('Predicted Values')\n",
        "plt.ylabel('Actual Values')\n",
        "plt.title('Confusion Matrix for Decision Tree')\n",
        "plt.show()\n",
        "\n",
        "# print all the evaluation metrics\n",
        "print(\"\\nDecision Tree Evaluation Metrics\")\n",
        "print(\"Accuracy: \",dt_accuracy)\n",
        "print(\"Precision: \",precision)\n",
        "print(\"Recall: \",recall)\n",
        "print(\"F1 Score: \",f1)\n",
        "#print classification report\n",
        "print(\"\\nClassification Report: \\n\",classification_rep)"
      ]
    },
    {
      "cell_type": "code",
      "execution_count": 36,
      "metadata": {
        "colab": {
          "base_uri": "https://localhost:8080/",
          "height": 859
        },
        "id": "rRmpKntCZPgo",
        "outputId": "a3abcd00-a9b1-4abf-eeba-b6c7f0facde3"
      },
      "outputs": [
        {
          "data": {
            "image/png": "[encoded data removed]",
            "text/plain": [
              "<Figure size 800x600 with 2 Axes>"
            ]
          },
          "metadata": {},
          "output_type": "display_data"
        },
        {
          "name": "stdout",
          "output_type": "stream",
          "text": [
            "\n",
            "Random Forest Evaluation Metrics\n",
            "Accuracy:  0.9789227166276346\n",
            "Precision:  0.9789137113664627\n",
            "Recall:  0.9789227166276346\n",
            "F1 Score:  0.9788951934704381\n",
            "\n",
            "Classification Report: \n",
            "               precision    recall  f1-score   support\n",
            "\n",
            "           0       0.98      0.99      0.98       536\n",
            "           1       0.98      0.97      0.97       318\n",
            "\n",
            "    accuracy                           0.98       854\n",
            "   macro avg       0.98      0.98      0.98       854\n",
            "weighted avg       0.98      0.98      0.98       854\n",
            "\n"
          ]
        }
      ],
      "source": [
        "# Random Forest\n",
        "from sklearn.ensemble import RandomForestClassifier\n",
        "from sklearn.metrics import accuracy_score,precision_score,recall_score,f1_score,classification_report,confusion_matrix\n",
        "#create instance , fit the model and predict\n",
        "random_forest = RandomForestClassifier(random_state=42)\n",
        "random_forest.fit(x_train,y_train)\n",
        "y_pred = random_forest.predict(x_test)\n",
        "\n",
        "# check evaluation metrics\n",
        "rf_accuracy = accuracy_score(y_test,y_pred)\n",
        "precision = precision_score(y_test,y_pred,average='weighted')\n",
        "recall = recall_score(y_test,y_pred,average='weighted')\n",
        "f1 = f1_score(y_test,y_pred,average='weighted')\n",
        "\n",
        "# classifcation report\n",
        "classification_rep = classification_report(y_test,y_pred)\n",
        "\n",
        "# confusion matrix\n",
        "conf_met = confusion_matrix(y_test,y_pred)\n",
        "plt.figure(figsize=(8,6))\n",
        "sns.heatmap(conf_met,annot=True,cmap='Blues',fmt='d') #fmt=d gives displayed numbers as int\n",
        "plt.xlabel('Predicted Values')\n",
        "plt.ylabel('Actual Values')\n",
        "plt.title('Confusion Matrix for Random Forest')\n",
        "plt.show()\n",
        "\n",
        "# print all the evaluation metrics\n",
        "print(\"\\nRandom Forest Evaluation Metrics\")\n",
        "print(\"Accuracy: \",rf_accuracy)\n",
        "print(\"Precision: \",precision)\n",
        "print(\"Recall: \",recall)\n",
        "print(\"F1 Score: \",f1)\n",
        "#print classification report\n",
        "print(\"\\nClassification Report: \\n\",classification_rep)"
      ]
    },
    {
      "cell_type": "code",
      "execution_count": 37,
      "metadata": {
        "colab": {
          "base_uri": "https://localhost:8080/",
          "height": 859
        },
        "id": "zH65pdDRaATB",
        "outputId": "b099a5fd-fcc9-48a5-aba0-7d71c79f146f"
      },
      "outputs": [
        {
          "data": {
            "image/png": "[encoded data removed]",
            "text/plain": [
              "<Figure size 800x600 with 2 Axes>"
            ]
          },
          "metadata": {},
          "output_type": "display_data"
        },
        {
          "name": "stdout",
          "output_type": "stream",
          "text": [
            "\n",
            "SVMC Evaluation Metrics\n",
            "Accuracy:  0.9285714285714286\n",
            "Precision:  0.9290105735474354\n",
            "Recall:  0.9285714285714286\n",
            "F1 Score:  0.9287254892757268\n",
            "\n",
            "Classification Report: \n",
            "               precision    recall  f1-score   support\n",
            "\n",
            "           0       0.95      0.94      0.94       536\n",
            "           1       0.90      0.92      0.91       318\n",
            "\n",
            "    accuracy                           0.93       854\n",
            "   macro avg       0.92      0.93      0.92       854\n",
            "weighted avg       0.93      0.93      0.93       854\n",
            "\n"
          ]
        }
      ],
      "source": [
        "# Simple Vector Classification\n",
        "from sklearn.svm import SVC\n",
        "from sklearn.metrics import accuracy_score,precision_score,recall_score,f1_score,classification_report,confusion_matrix\n",
        "#create instance , fit the model and predict\n",
        "svm_classifier = SVC(random_state=42)\n",
        "svm_classifier.fit(x_train,y_train)\n",
        "y_pred = svm_classifier.predict(x_test)\n",
        "\n",
        "# check evaluation metrics\n",
        "svm_accuracy = accuracy_score(y_test,y_pred)\n",
        "precision = precision_score(y_test,y_pred,average='weighted')\n",
        "recall = recall_score(y_test,y_pred,average='weighted')\n",
        "f1 = f1_score(y_test,y_pred,average='weighted')\n",
        "\n",
        "# classifcation report\n",
        "classification_rep = classification_report(y_test,y_pred)\n",
        "\n",
        "# confusion matrix\n",
        "conf_met = confusion_matrix(y_test,y_pred)\n",
        "plt.figure(figsize=(8,6))\n",
        "sns.heatmap(conf_met,annot=True,cmap='Blues',fmt='d') #fmt=d gives displayed numbers as int\n",
        "plt.xlabel('Predicted Values')\n",
        "plt.ylabel('Actual Values')\n",
        "plt.title('Confusion Matrix for SVM classification')\n",
        "plt.show()\n",
        "\n",
        "# print all the evaluation metrics\n",
        "print(\"\\nSVMC Evaluation Metrics\")\n",
        "print(\"Accuracy: \",svm_accuracy)\n",
        "print(\"Precision: \",precision)\n",
        "print(\"Recall: \",recall)\n",
        "print(\"F1 Score: \",f1)\n",
        "#print classification report\n",
        "print(\"\\nClassification Report: \\n\",classification_rep)"
      ]
    },
    {
      "cell_type": "code",
      "execution_count": 38,
      "metadata": {
        "colab": {
          "base_uri": "https://localhost:8080/",
          "height": 859
        },
        "id": "hY1GURWpbDwj",
        "outputId": "88d5438d-2cd9-4ce3-89bb-ed37c79e41c1"
      },
      "outputs": [
        {
          "data": {
            "image/png": "[encoded data removed]",
            "text/plain": [
              "<Figure size 800x600 with 2 Axes>"
            ]
          },
          "metadata": {},
          "output_type": "display_data"
        },
        {
          "name": "stdout",
          "output_type": "stream",
          "text": [
            "\n",
            "K-Nearest Neighbours Evaluation Metrics\n",
            "Accuracy:  0.8992974238875878\n",
            "Precision:  0.9008971788003887\n",
            "Recall:  0.8992974238875878\n",
            "F1 Score:  0.899770140014533\n",
            "\n",
            "Classification Report: \n",
            "               precision    recall  f1-score   support\n",
            "\n",
            "           0       0.93      0.90      0.92       536\n",
            "           1       0.85      0.89      0.87       318\n",
            "\n",
            "    accuracy                           0.90       854\n",
            "   macro avg       0.89      0.90      0.89       854\n",
            "weighted avg       0.90      0.90      0.90       854\n",
            "\n"
          ]
        }
      ],
      "source": [
        "# KNN classification\n",
        "from sklearn.neighbors import KNeighborsClassifier\n",
        "from sklearn.metrics import accuracy_score,precision_score,recall_score,f1_score,classification_report,confusion_matrix\n",
        "#create instance , fit the model and predict\n",
        "KNN_classifier = KNeighborsClassifier(n_neighbors=5)\n",
        "KNN_classifier.fit(x_train,y_train)\n",
        "y_pred = KNN_classifier.predict(x_test)\n",
        "\n",
        "# check evaluation metrics\n",
        "knn_accuracy = accuracy_score(y_test,y_pred)\n",
        "precision = precision_score(y_test,y_pred,average='weighted')\n",
        "recall = recall_score(y_test,y_pred,average='weighted')\n",
        "f1 = f1_score(y_test,y_pred,average='weighted')\n",
        "\n",
        "# classifcation report\n",
        "classification_rep = classification_report(y_test,y_pred)\n",
        "\n",
        "# confusion matrix\n",
        "conf_met = confusion_matrix(y_test,y_pred)\n",
        "plt.figure(figsize=(8,6))\n",
        "sns.heatmap(conf_met,annot=True,cmap='Blues',fmt='d') #fmt=d gives displayed numbers as int\n",
        "plt.xlabel('Predicted Values')\n",
        "plt.ylabel('Actual Values')\n",
        "plt.title('Confusion Matrix for KNN classification')\n",
        "plt.show()\n",
        "\n",
        "# print all the evaluation metrics\n",
        "print(\"\\nK-Nearest Neighbours Evaluation Metrics\")\n",
        "print(\"Accuracy: \",knn_accuracy)\n",
        "print(\"Precision: \",precision)\n",
        "print(\"Recall: \",recall)\n",
        "print(\"F1 Score: \",f1)\n",
        "#print classification report\n",
        "print(\"\\nClassification Report: \\n\",classification_rep)"
      ]
    },
    {
      "cell_type": "code",
      "execution_count": 40,
      "metadata": {
        "colab": {
          "base_uri": "https://localhost:8080/",
          "height": 859
        },
        "id": "RO8R211ub2a2",
        "outputId": "8555d8b8-6a86-468a-fe7f-c32b297c20ec"
      },
      "outputs": [
        {
          "data": {
            "image/png": "[encoded data removed]",
            "text/plain": [
              "<Figure size 800x600 with 2 Axes>"
            ]
          },
          "metadata": {},
          "output_type": "display_data"
        },
        {
          "name": "stdout",
          "output_type": "stream",
          "text": [
            "\n",
            "XGBoost Evaluation Metrics\n",
            "Accuracy:  0.9824355971896955\n",
            "Precision:  0.9824273418117514\n",
            "Recall:  0.9824355971896955\n",
            "F1 Score:  0.982418483851126\n",
            "\n",
            "Classification Report: \n",
            "               precision    recall  f1-score   support\n",
            "\n",
            "           0       0.98      0.99      0.99       536\n",
            "           1       0.98      0.97      0.98       318\n",
            "\n",
            "    accuracy                           0.98       854\n",
            "   macro avg       0.98      0.98      0.98       854\n",
            "weighted avg       0.98      0.98      0.98       854\n",
            "\n"
          ]
        }
      ],
      "source": [
        "# XGBoost\n",
        "\n",
        "from xgboost import XGBClassifier\n",
        "import joblib \n",
        "from sklearn.metrics import accuracy_score,precision_score,recall_score,f1_score,classification_report,confusion_matrix\n",
        "\n",
        "# create instance , fit the model and predict\n",
        "XGB_classifier = XGBClassifier(random_state=42)\n",
        "XGB_classifier.fit(x_train,y_train)\n",
        "y_pred = XGB_classifier.predict(x_test)\n",
        "#save the model\n",
        "XGB_classifier.save_model('xgb_model.json')\n",
        "joblib.dump(XGB_classifier,'xgb_model.pkl')\n",
        "\n",
        "# check evaluation metrics\n",
        "XGB_accuracy = accuracy_score(y_test,y_pred)\n",
        "precision = precision_score(y_test,y_pred,average='weighted')\n",
        "recall = recall_score(y_test,y_pred,average='weighted')\n",
        "f1 = f1_score(y_test,y_pred,average='weighted')\n",
        "\n",
        "# classifcation report\n",
        "classification_rep = classification_report(y_test,y_pred)\n",
        "\n",
        "# confusion matrix\n",
        "conf_met = confusion_matrix(y_test,y_pred)\n",
        "plt.figure(figsize=(8,6))\n",
        "sns.heatmap(conf_met,annot=True,cmap='Blues',fmt='d') #fmt=d gives displayed numbers as int\n",
        "plt.xlabel('Predicted Values')\n",
        "plt.ylabel('Actual Values')\n",
        "plt.title('Confusion Matrix for XGBoost classification')\n",
        "plt.show()\n",
        "\n",
        "# print all the evaluation metrics\n",
        "print(\"\\nXGBoost Evaluation Metrics\")\n",
        "print(\"Accuracy: \",XGB_accuracy)\n",
        "print(\"Precision: \",precision)\n",
        "print(\"Recall: \",recall)\n",
        "print(\"F1 Score: \",f1)\n",
        "# print classification report\n",
        "print(\"\\nClassification Report: \\n\",classification_rep)"
      ]
    },
    {
      "cell_type": "code",
      "execution_count": 41,
      "metadata": {
        "colab": {
          "base_uri": "https://localhost:8080/"
        },
        "id": "6Xji8zsH6JjU",
        "outputId": "7b32fefa-dece-4ebe-b8a9-8cc0e232dc5e"
      },
      "outputs": [
        {
          "name": "stdout",
          "output_type": "stream",
          "text": [
            "Accuracy COMPARISON\n",
            "LogReg:  0.905152224824356\n",
            "DT:  0.977751756440281\n",
            "RF:  0.9789227166276346\n",
            "SVM:  0.9285714285714286\n",
            "KNN:  0.8992974238875878\n",
            "XGB:  0.9824355971896955\n"
          ]
        }
      ],
      "source": [
        "# Comparing and Deciding which models to be used for ensemblde model training\n",
        "print(\"Accuracy COMPARISON\")\n",
        "print(\"LogReg: \",lr_accuracy)\n",
        "print(\"DT: \",dt_accuracy)\n",
        "print(\"RF: \",rf_accuracy)\n",
        "print(\"SVM: \",svm_accuracy)\n",
        "print(\"KNN: \",knn_accuracy)\n",
        "print(\"XGB: \",XGB_accuracy)"
      ]
    },
    {
      "cell_type": "code",
      "execution_count": null,
      "metadata": {},
      "outputs": [],
      "source": []
    },
    {
      "cell_type": "markdown",
      "metadata": {
        "id": "C5RZ25cj-dmV"
      },
      "source": [
        "## Conclusion"
      ]
    },
    {
      "cell_type": "markdown",
      "metadata": {
        "id": "NODkbBnA4ATb"
      },
      "source": [
        "In this project, we explored the loan dataset, handled missing values, and performed exploratory data analysis.  \n",
        "We trained machine learning models to predict loan approvals and evaluated their performance.\n",
        "\n",
        "### Findings:\n",
        "We find that the XGBoost Classifier model performs most accurately with 98.24% accuracy which is closely followed by the ensemble model , performing at 98.12% accuracy.\n",
        "\n",
        "### Key Takeaways:\n",
        "- Data preprocessing significantly improves model performance.\n",
        "- Feature selection and parameter tuning enhance predictive accuracy.\n",
        "- This project demonstrates the practical application of machine learning in finance.\n",
        "\n",
        "### Future Scope:\n",
        "Further improvements can include advanced algorithms, feature engineering, and more advanced ensemble methods for higher accuracy.\n"
      ]
    },
    {
      "cell_type": "code",
      "execution_count": null,
      "metadata": {},
      "outputs": [],
      "source": [
        "import pandas as pd\n",
        "from sklearn.preprocessing import StandardScaler\n",
        "from sklearn.linear_model import LogisticRegression\n",
        "\n",
        "# Sample data to mimic your test input\n",
        "test_data = {\n",
        "    \"no_of_dependents\": [0, 1, 0],  # Example: You can change these values as needed\n",
        "    \"education\": [1],  # Graduate (encoded as 1)\n",
        "    \"self_employed\": [0],  # No (encoded as 0)\n",
        "    \"income_annum\": [9600000],  # Example\n",
        "    \"loan_amount\": [29900000],  # Example\n",
        "    \"loan_term\": [12],  # Example\n",
        "    \"cibil_score\": [778],  # Example\n",
        "    \"residential_assets_value\": [2400000],  # Example\n",
        "    \"commercial_assets_value\": [17600000],  # Example\n",
        "    \"luxury_assets_value\": [22700000],  # Example\n",
        "    \"bank_asset_value\": [8000000],  # Example\n",
        "}\n",
        "\n",
        "# Create a DataFrame\n",
        "input_df = pd.DataFrame(test_data)"
      ]
    }
  ],
  "metadata": {
    "colab": {
      "authorship_tag": "ABX9TyNZH22k9WHJdRplkz/vukfF",
      "collapsed_sections": [
        "wlFTQMfv5Yz7",
        "3eJodm9lwGZ1",
        "_AbuMjxuKDE4",
        "DwvNwZsOL_sf",
        "Xg98DySIOraH",
        "QaMFFFf1SStu",
        "bCMQtRD9dBh3"
      ],
      "include_colab_link": true,
      "provenance": []
    },
    "kernelspec": {
      "display_name": "venv1",
      "language": "python",
      "name": "python3"
    },
    "language_info": {
      "codemirror_mode": {
        "name": "ipython",
        "version": 3
      },
      "file_extension": ".py",
      "mimetype": "text/x-python",
      "name": "python",
      "nbconvert_exporter": "python",
      "pygments_lexer": "ipython3",
      "version": "3.12.0"
    }
  },
  "nbformat": 4,
  "nbformat_minor": 0
}
